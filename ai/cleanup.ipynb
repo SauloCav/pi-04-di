{
 "cells": [
  {
   "cell_type": "code",
   "execution_count": 11,
   "id": "5b7084b8",
   "metadata": {},
   "outputs": [],
   "source": [
    "from math import nan\n",
    "\n",
    "import pandas as pd\n",
    "from nltk.corpus import stopwords"
   ]
  },
  {
   "cell_type": "code",
   "execution_count": 12,
   "id": "ca76ca9a",
   "metadata": {},
   "outputs": [],
   "source": [
    "INPUT_PATH = \"datasets/ruddit_with_text.csv\"\n",
    "OUTPUT_PATH = \"datasets/cleaned_dataset.csv\""
   ]
  },
  {
   "cell_type": "code",
   "execution_count": 13,
   "id": "2c3f5797",
   "metadata": {},
   "outputs": [
    {
     "data": {
      "text/html": [
       "<div>\n",
       "<style scoped>\n",
       "    .dataframe tbody tr th:only-of-type {\n",
       "        vertical-align: middle;\n",
       "    }\n",
       "\n",
       "    .dataframe tbody tr th {\n",
       "        vertical-align: top;\n",
       "    }\n",
       "\n",
       "    .dataframe thead th {\n",
       "        text-align: right;\n",
       "    }\n",
       "</style>\n",
       "<table border=\"1\" class=\"dataframe\">\n",
       "  <thead>\n",
       "    <tr style=\"text-align: right;\">\n",
       "      <th></th>\n",
       "      <th>post_id</th>\n",
       "      <th>comment_id</th>\n",
       "      <th>txt</th>\n",
       "      <th>url</th>\n",
       "      <th>offensiveness_score</th>\n",
       "    </tr>\n",
       "  </thead>\n",
       "  <tbody>\n",
       "    <tr>\n",
       "      <th>0</th>\n",
       "      <td>42g75o</td>\n",
       "      <td>cza1q49</td>\n",
       "      <td>&gt; The difference in average earnings between m...</td>\n",
       "      <td>https://www.reddit.com/r/changemyview/comments...</td>\n",
       "      <td>-0.083</td>\n",
       "    </tr>\n",
       "    <tr>\n",
       "      <th>1</th>\n",
       "      <td>42g75o</td>\n",
       "      <td>cza1wdh</td>\n",
       "      <td>The myth is that the \"gap\" is entirely based o...</td>\n",
       "      <td>https://www.reddit.com/r/changemyview/comments...</td>\n",
       "      <td>-0.022</td>\n",
       "    </tr>\n",
       "    <tr>\n",
       "      <th>2</th>\n",
       "      <td>42g75o</td>\n",
       "      <td>cza23qx</td>\n",
       "      <td>[deleted]</td>\n",
       "      <td>https://www.reddit.com/r/changemyview/comments...</td>\n",
       "      <td>0.167</td>\n",
       "    </tr>\n",
       "    <tr>\n",
       "      <th>3</th>\n",
       "      <td>42g75o</td>\n",
       "      <td>cza2bw8</td>\n",
       "      <td>The assertion is that women get paid less for ...</td>\n",
       "      <td>https://www.reddit.com/r/changemyview/comments...</td>\n",
       "      <td>-0.146</td>\n",
       "    </tr>\n",
       "    <tr>\n",
       "      <th>4</th>\n",
       "      <td>42g75o</td>\n",
       "      <td>cza2iji</td>\n",
       "      <td>You said in the OP that's not what they're mea...</td>\n",
       "      <td>https://www.reddit.com/r/changemyview/comments...</td>\n",
       "      <td>-0.083</td>\n",
       "    </tr>\n",
       "  </tbody>\n",
       "</table>\n",
       "</div>"
      ],
      "text/plain": [
       "  post_id comment_id                                                txt  \\\n",
       "0  42g75o    cza1q49  > The difference in average earnings between m...   \n",
       "1  42g75o    cza1wdh  The myth is that the \"gap\" is entirely based o...   \n",
       "2  42g75o    cza23qx                                          [deleted]   \n",
       "3  42g75o    cza2bw8  The assertion is that women get paid less for ...   \n",
       "4  42g75o    cza2iji  You said in the OP that's not what they're mea...   \n",
       "\n",
       "                                                 url  offensiveness_score  \n",
       "0  https://www.reddit.com/r/changemyview/comments...               -0.083  \n",
       "1  https://www.reddit.com/r/changemyview/comments...               -0.022  \n",
       "2  https://www.reddit.com/r/changemyview/comments...                0.167  \n",
       "3  https://www.reddit.com/r/changemyview/comments...               -0.146  \n",
       "4  https://www.reddit.com/r/changemyview/comments...               -0.083  "
      ]
     },
     "execution_count": 13,
     "metadata": {},
     "output_type": "execute_result"
    }
   ],
   "source": [
    "dataset = pd.read_csv(INPUT_PATH)\n",
    "dataset.head()"
   ]
  },
  {
   "cell_type": "code",
   "execution_count": 14,
   "id": "6b8ef0e0",
   "metadata": {},
   "outputs": [],
   "source": [
    "words = {}"
   ]
  },
  {
   "cell_type": "code",
   "execution_count": 15,
   "id": "b5f2cd46",
   "metadata": {},
   "outputs": [
    {
     "data": {
      "text/html": [
       "<div>\n",
       "<style scoped>\n",
       "    .dataframe tbody tr th:only-of-type {\n",
       "        vertical-align: middle;\n",
       "    }\n",
       "\n",
       "    .dataframe tbody tr th {\n",
       "        vertical-align: top;\n",
       "    }\n",
       "\n",
       "    .dataframe thead th {\n",
       "        text-align: right;\n",
       "    }\n",
       "</style>\n",
       "<table border=\"1\" class=\"dataframe\">\n",
       "  <thead>\n",
       "    <tr style=\"text-align: right;\">\n",
       "      <th></th>\n",
       "      <th>keywords</th>\n",
       "      <th>offensiveness_score</th>\n",
       "    </tr>\n",
       "  </thead>\n",
       "  <tbody>\n",
       "    <tr>\n",
       "      <th>0</th>\n",
       "      <td>difference average earnings men women explaine...</td>\n",
       "      <td>-0.083</td>\n",
       "    </tr>\n",
       "    <tr>\n",
       "      <th>1</th>\n",
       "      <td>myth entirely based sex</td>\n",
       "      <td>-0.022</td>\n",
       "    </tr>\n",
       "    <tr>\n",
       "      <th>3</th>\n",
       "      <td>assertion women get paid less get paid less</td>\n",
       "      <td>-0.146</td>\n",
       "    </tr>\n",
       "    <tr>\n",
       "      <th>4</th>\n",
       "      <td>said op measuring women make jlaw complaining</td>\n",
       "      <td>-0.083</td>\n",
       "    </tr>\n",
       "    <tr>\n",
       "      <th>5</th>\n",
       "      <td>women payed less think many people say case th...</td>\n",
       "      <td>-0.042</td>\n",
       "    </tr>\n",
       "  </tbody>\n",
       "</table>\n",
       "</div>"
      ],
      "text/plain": [
       "                                            keywords  offensiveness_score\n",
       "0  difference average earnings men women explaine...               -0.083\n",
       "1                            myth entirely based sex               -0.022\n",
       "3        assertion women get paid less get paid less               -0.146\n",
       "4      said op measuring women make jlaw complaining               -0.083\n",
       "5  women payed less think many people say case th...               -0.042"
      ]
     },
     "execution_count": 15,
     "metadata": {},
     "output_type": "execute_result"
    }
   ],
   "source": [
    "english_stopwords = stopwords.words(\"english\")\n",
    "clean_dataset = pd.DataFrame()\n",
    "clean_dataset[\"offensiveness_score\"] = dataset[\"offensiveness_score\"]\n",
    "clean_dataset[\"keywords\"] = dataset[\"txt\"] \\\n",
    "    .map(lambda comment: [word.lower() for word in comment.split(\" \") if word.isalpha()]) \\\n",
    "    .map(lambda keywords: [keyword for keyword in keywords if keyword not in english_stopwords]) \\\n",
    "    .map(lambda keywords: \" \".join(keywords))\n",
    "clean_dataset[\"keywords\"].replace(\"\", nan, inplace=True)\n",
    "clean_dataset.dropna(subset=[\"keywords\"], inplace=True)\n",
    "clean_dataset = clean_dataset[[\"keywords\", \"offensiveness_score\"]]\n",
    "clean_dataset.head()"
   ]
  },
  {
   "cell_type": "code",
   "execution_count": 16,
   "id": "99b843ff",
   "metadata": {},
   "outputs": [],
   "source": [
    "clean_dataset.to_csv(OUTPUT_PATH)"
   ]
  }
 ],
 "metadata": {
  "kernelspec": {
   "display_name": "Python 3.10.6 ('venv': venv)",
   "language": "python",
   "name": "python3"
  },
  "language_info": {
   "codemirror_mode": {
    "name": "ipython",
    "version": 3
   },
   "file_extension": ".py",
   "mimetype": "text/x-python",
   "name": "python",
   "nbconvert_exporter": "python",
   "pygments_lexer": "ipython3",
   "version": "3.10.6"
  },
  "vscode": {
   "interpreter": {
    "hash": "eb527631bb171dc6780ad93b516f58282b63f6e85a0ece7e5e91665eeb4222d6"
   }
  }
 },
 "nbformat": 4,
 "nbformat_minor": 5
}
