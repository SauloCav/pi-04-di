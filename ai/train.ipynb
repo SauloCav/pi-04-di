{
 "cells": [
  {
   "cell_type": "code",
   "execution_count": null,
   "metadata": {},
   "outputs": [],
   "source": [
    "import pickle as pk\n",
    "import pandas as pd\n",
    "import matplotlib.pyplot as plt\n",
    "import pandas.plotting as pdplt\n",
    "import numpy as np\n",
    "from nltk.corpus import stopwords\n",
    "from sklearn.naive_bayes import MultinomialNB\n",
    "from sklearn.model_selection import train_test_split\n",
    "from sklearn.feature_extraction.text import CountVectorizer\n",
    "from sklearn.metrics import classification_report, confusion_matrix"
   ]
  },
  {
   "cell_type": "code",
   "execution_count": null,
   "metadata": {},
   "outputs": [],
   "source": [
    "DATASET_PATH = \"datasets/ruddit_with_text.csv\"\n",
    "STATS_PATH = \"stats/stats.png\"\n",
    "STOPWORDS_LANGUAGE = \"english\"\n",
    "VECTORIZER_PATH = \"models/vectorizer.pickle\"\n",
    "CLASSIFIER_PATH = \"models/classifier.pickle\"\n",
    "THRESHOLD_QUANTILE = 0.5\n",
    "SEED = 1928"
   ]
  },
  {
   "cell_type": "markdown",
   "metadata": {},
   "source": [
    "# Data setup"
   ]
  },
  {
   "cell_type": "code",
   "execution_count": null,
   "metadata": {},
   "outputs": [],
   "source": [
    "UNUSED_COLUMNS = [\"post_id\", \"comment_id\", \"url\"]\n",
    "SCORE_COLUMN = \"offensiveness_score\"\n",
    "COMMENT_COLUMN = \"txt\"\n",
    "OFFENSIVE_LABEL = \"offensive\"\n",
    "NOT_OFFENSIVE_LABEL = \"not_offensive\""
   ]
  },
  {
   "cell_type": "code",
   "execution_count": null,
   "metadata": {},
   "outputs": [],
   "source": [
    "dataset = pd.read_csv(DATASET_PATH)\n",
    "dataset.head()"
   ]
  },
  {
   "cell_type": "code",
   "execution_count": null,
   "metadata": {},
   "outputs": [],
   "source": [
    "# drops unused columns\n",
    "dataset.drop(UNUSED_COLUMNS, axis=\"columns\", inplace=True)"
   ]
  },
  {
   "cell_type": "code",
   "execution_count": null,
   "metadata": {},
   "outputs": [],
   "source": [
    "# drops deleted comments\n",
    "dataset[COMMENT_COLUMN].replace(\"[deleted]\", np.nan, inplace=True)\n",
    "dataset.dropna(subset=[COMMENT_COLUMN], inplace=True)\n",
    "dataset.head()"
   ]
  },
  {
   "cell_type": "code",
   "execution_count": null,
   "metadata": {},
   "outputs": [],
   "source": [
    "# finds labeling threshold\n",
    "threshold = np.quantile(dataset[SCORE_COLUMN], q=THRESHOLD_QUANTILE)\n",
    "print(\"threshold:\", threshold)"
   ]
  },
  {
   "cell_type": "code",
   "execution_count": null,
   "metadata": {},
   "outputs": [],
   "source": [
    "plt.hist(dataset[SCORE_COLUMN], bins=\"auto\")\n",
    "plt.axvline(threshold, color=\"k\")\n",
    "_ = plt.title(\"Offensiveness Score Distribution\")"
   ]
  },
  {
   "cell_type": "markdown",
   "metadata": {},
   "source": [
    "# Training"
   ]
  },
  {
   "cell_type": "code",
   "execution_count": null,
   "metadata": {},
   "outputs": [],
   "source": [
    "vectorizer = CountVectorizer(stop_words=STOPWORDS_LANGUAGE)\n",
    "x = vectorizer.fit_transform(dataset[COMMENT_COLUMN])\n",
    "y = dataset[SCORE_COLUMN].map(lambda s: OFFENSIVE_LABEL if s > threshold else NOT_OFFENSIVE_LABEL)\n",
    "x_train, x_test, y_train, y_test = train_test_split(x, y, train_size=0.8, random_state=SEED)"
   ]
  },
  {
   "cell_type": "code",
   "execution_count": null,
   "metadata": {},
   "outputs": [],
   "source": [
    "classifier = MultinomialNB().fit(x_train, y_train)"
   ]
  },
  {
   "cell_type": "markdown",
   "metadata": {},
   "source": [
    "# Results"
   ]
  },
  {
   "cell_type": "code",
   "execution_count": null,
   "metadata": {},
   "outputs": [],
   "source": [
    "classes = classifier.classes_\n",
    "y_pred = classifier.predict(x_test)\n",
    "report = pd.DataFrame(classification_report(y_test, y_pred, output_dict=True)).transpose()\n",
    "confusion = pd.DataFrame(confusion_matrix(y_test, y_pred))\n",
    "confusion.set_axis(classes, axis=\"rows\", inplace=True)\n",
    "confusion.set_axis(classes, axis=\"columns\", inplace=True)"
   ]
  },
  {
   "cell_type": "code",
   "execution_count": null,
   "metadata": {},
   "outputs": [],
   "source": [
    "report"
   ]
  },
  {
   "cell_type": "code",
   "execution_count": null,
   "metadata": {},
   "outputs": [],
   "source": [
    "confusion"
   ]
  },
  {
   "cell_type": "code",
   "execution_count": null,
   "metadata": {},
   "outputs": [],
   "source": [
    "fig, [report_axis, confusion_axis] = plt.subplots(2, 1)\n",
    "report_axis.axis(\"tight\")\n",
    "report_axis.axis(\"off\")\n",
    "pdplt.table(report_axis, report, loc=\"center\")\n",
    "report_axis.set_title(\"Estastisticas do Modelo\")\n",
    "confusion_axis.axis(\"tight\")\n",
    "confusion_axis.axis(\"off\")\n",
    "pdplt.table(confusion_axis, confusion, loc=\"center\")\n",
    "confusion_axis.set_title(\"Matriz de Confusão\")\n",
    "fig.tight_layout()\n",
    "fig.savefig(STATS_PATH, bbox_inches=\"tight\", dpi=240)"
   ]
  },
  {
   "cell_type": "code",
   "execution_count": null,
   "metadata": {},
   "outputs": [],
   "source": [
    "# comment = \"welcome to reddit\"\n",
    "# features = vectorizer.transform([comment])\n",
    "# prediction = classifier.predict_proba(features)\n",
    "# print(f\"offensiveness: {prediction[0][1]}\")"
   ]
  },
  {
   "cell_type": "markdown",
   "metadata": {},
   "source": [
    "# Saves model"
   ]
  },
  {
   "cell_type": "code",
   "execution_count": null,
   "metadata": {},
   "outputs": [],
   "source": [
    "with open(VECTORIZER_PATH, \"wb\") as vectorizer_file, open(CLASSIFIER_PATH, \"wb\") as classifier_file:\n",
    "    pk.dump(vectorizer, vectorizer_file)\n",
    "    pk.dump(classifier, classifier_file)\n"
   ]
  }
 ],
 "metadata": {
  "kernelspec": {
   "display_name": "Python 3.10.6 ('venv': venv)",
   "language": "python",
   "name": "python3"
  },
  "language_info": {
   "codemirror_mode": {
    "name": "ipython",
    "version": 3
   },
   "file_extension": ".py",
   "mimetype": "text/x-python",
   "name": "python",
   "nbconvert_exporter": "python",
   "pygments_lexer": "ipython3",
   "version": "3.10.6"
  },
  "orig_nbformat": 4,
  "vscode": {
   "interpreter": {
    "hash": "eb527631bb171dc6780ad93b516f58282b63f6e85a0ece7e5e91665eeb4222d6"
   }
  }
 },
 "nbformat": 4,
 "nbformat_minor": 2
}
