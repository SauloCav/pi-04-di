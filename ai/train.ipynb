{
 "cells": [
  {
   "cell_type": "code",
   "execution_count": 1,
   "metadata": {},
   "outputs": [],
   "source": [
    "import pandas as pd\n",
    "import numpy as np\n",
    "from nltk import FreqDist, NaiveBayesClassifier\n",
    "\n",
    "import ai_utils"
   ]
  },
  {
   "cell_type": "code",
   "execution_count": 2,
   "metadata": {},
   "outputs": [],
   "source": [
    "KNOW_KEYWORDS_PATH = \"datasets/know_keywords.csv\"\n",
    "CLEAN_PATH = \"datasets/cleaned_dataset.csv\"\n",
    "SEED = 123123123"
   ]
  },
  {
   "cell_type": "code",
   "execution_count": 3,
   "metadata": {},
   "outputs": [],
   "source": [
    "know_keywords_dataset = pd.read_csv(KNOW_KEYWORDS_PATH)\n",
    "clean_dataset = pd.read_csv(CLEAN_PATH)"
   ]
  },
  {
   "cell_type": "code",
   "execution_count": 4,
   "metadata": {},
   "outputs": [
    {
     "name": "stdout",
     "output_type": "stream",
     "text": [
      "train samples: 4542, test samples: 1135\n"
     ]
    }
   ],
   "source": [
    "train_dataset = clean_dataset.sample(frac=0.8, random_state=SEED)\n",
    "test_dataset = clean_dataset.drop(train_dataset.index)\n",
    "print(f\"train samples: {len(train_dataset)}, test samples: {len(test_dataset)}\")"
   ]
  },
  {
   "cell_type": "code",
   "execution_count": 5,
   "metadata": {},
   "outputs": [],
   "source": [
    "know_keywords = know_keywords_dataset[\"know_keywords\"]\n",
    "x_train = [ai_utils.extract_features(keywords.split(\" \"), know_keywords) for keywords in train_dataset[\"keywords\"]]\n",
    "y_train = [ai_utils.extract_label(score) for score in train_dataset[\"offensiveness_score\"]]"
   ]
  },
  {
   "cell_type": "code",
   "execution_count": 6,
   "metadata": {},
   "outputs": [],
   "source": [
    "classifier = NaiveBayesClassifier.train(zip(x_train, y_train))"
   ]
  },
  {
   "cell_type": "code",
   "execution_count": 12,
   "metadata": {},
   "outputs": [
    {
     "name": "stdout",
     "output_type": "stream",
     "text": [
      "offensive: 0.9613251723938927\n",
      "not_offensive: 0.03867482760610646\n"
     ]
    }
   ],
   "source": [
    "comment = \"hello little shit\"\n",
    "features = ai_utils.extract_features(ai_utils.comment_to_keywords(comment), know_keywords)\n",
    "result = classifier.prob_classify(features)\n",
    "for label in classifier.labels():\n",
    "    print(f\"{label}: {result.prob(label)}\")"
   ]
  }
 ],
 "metadata": {
  "kernelspec": {
   "display_name": "Python 3.10.6 ('venv': venv)",
   "language": "python",
   "name": "python3"
  },
  "language_info": {
   "codemirror_mode": {
    "name": "ipython",
    "version": 3
   },
   "file_extension": ".py",
   "mimetype": "text/x-python",
   "name": "python",
   "nbconvert_exporter": "python",
   "pygments_lexer": "ipython3",
   "version": "3.10.6"
  },
  "orig_nbformat": 4,
  "vscode": {
   "interpreter": {
    "hash": "eb527631bb171dc6780ad93b516f58282b63f6e85a0ece7e5e91665eeb4222d6"
   }
  }
 },
 "nbformat": 4,
 "nbformat_minor": 2
}
