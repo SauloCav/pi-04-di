{
 "cells": [
  {
   "cell_type": "code",
   "execution_count": 117,
   "metadata": {},
   "outputs": [],
   "source": [
    "import pandas as pd\n",
    "import numpy as np\n",
    "from nltk.corpus import stopwords\n",
    "from sklearn.naive_bayes import MultinomialNB\n",
    "from sklearn.model_selection import train_test_split\n",
    "from sklearn.feature_extraction.text import CountVectorizer\n",
    "from sklearn.metrics import accuracy_score, classification_report, f1_score"
   ]
  },
  {
   "cell_type": "code",
   "execution_count": 118,
   "metadata": {},
   "outputs": [],
   "source": [
    "CLEAN_PATH = \"datasets/cleaned_dataset.csv\""
   ]
  },
  {
   "cell_type": "code",
   "execution_count": 119,
   "metadata": {},
   "outputs": [],
   "source": [
    "clean_dataset = pd.read_csv(CLEAN_PATH)"
   ]
  },
  {
   "cell_type": "code",
   "execution_count": 120,
   "metadata": {},
   "outputs": [],
   "source": [
    "count_vectorizer = CountVectorizer(stop_words=stopwords.words(\"english\"))\n",
    "x = count_vectorizer.fit_transform(clean_dataset[\"keywords\"])\n",
    "y = clean_dataset[\"classification\"]\n",
    "x_train, x_test, y_train, y_test = train_test_split(x, y, train_size=0.8)"
   ]
  },
  {
   "cell_type": "code",
   "execution_count": 121,
   "metadata": {},
   "outputs": [],
   "source": [
    "classifier = MultinomialNB().fit(x_train, y_train)"
   ]
  },
  {
   "cell_type": "code",
   "execution_count": 122,
   "metadata": {},
   "outputs": [
    {
     "name": "stdout",
     "output_type": "stream",
     "text": [
      "               precision    recall  f1-score   support\n",
      "\n",
      "not_offensive       0.80      0.73      0.76       711\n",
      "    offensive       0.63      0.71      0.67       457\n",
      "\n",
      "     accuracy                           0.72      1168\n",
      "    macro avg       0.71      0.72      0.72      1168\n",
      " weighted avg       0.73      0.72      0.73      1168\n",
      "\n"
     ]
    }
   ],
   "source": [
    "y_pred = classifier.predict(x_test)\n",
    "print(classification_report(y_test, y_pred))"
   ]
  },
  {
   "cell_type": "code",
   "execution_count": 123,
   "metadata": {},
   "outputs": [
    {
     "name": "stdout",
     "output_type": "stream",
     "text": [
      "offensiveness: 0.7365725291648604\n"
     ]
    }
   ],
   "source": [
    "comment = \"welcome to reddit\"\n",
    "features = count_vectorizer.transform([comment])\n",
    "prediction = classifier.predict_proba(features)\n",
    "print(f\"offensiveness: {prediction[0][1]}\")"
   ]
  }
 ],
 "metadata": {
  "kernelspec": {
   "display_name": "Python 3.10.6 ('venv': venv)",
   "language": "python",
   "name": "python3"
  },
  "language_info": {
   "codemirror_mode": {
    "name": "ipython",
    "version": 3
   },
   "file_extension": ".py",
   "mimetype": "text/x-python",
   "name": "python",
   "nbconvert_exporter": "python",
   "pygments_lexer": "ipython3",
   "version": "3.10.6"
  },
  "orig_nbformat": 4,
  "vscode": {
   "interpreter": {
    "hash": "eb527631bb171dc6780ad93b516f58282b63f6e85a0ece7e5e91665eeb4222d6"
   }
  }
 },
 "nbformat": 4,
 "nbformat_minor": 2
}
