{
 "cells": [
  {
   "cell_type": "code",
   "execution_count": null,
   "metadata": {},
   "outputs": [],
   "source": [
    "import pickle as pk\n",
    "import pandas as pd\n",
    "import matplotlib.pyplot as plt\n",
    "import pandas.plotting as pdplt\n",
    "import numpy as np\n",
    "from nltk.corpus import stopwords\n",
    "from sklearn.naive_bayes import MultinomialNB\n",
    "from sklearn.svm import SVC\n",
    "from sklearn.model_selection import train_test_split\n",
    "from sklearn.feature_extraction.text import CountVectorizer\n",
    "from sklearn.metrics import classification_report, confusion_matrix"
   ]
  },
  {
   "cell_type": "code",
   "execution_count": null,
   "metadata": {},
   "outputs": [],
   "source": [
    "DATASET_PATH = \"datasets/ruddit_with_text.csv\"\n",
    "SVM_STATS_PATH = \"stats/svm_stats.png\"\n",
    "NB_STATS_PATH = \"stats/nb_stats.png\"\n",
    "STOPWORDS_LANGUAGE = \"english\"\n",
    "SVM_MODEL_PATH = \"models/svm_model.pickle\"\n",
    "NB_MODEL_PATH = \"models/nb_model.pickle\"\n",
    "THRESHOLD_QUANTILE = 0.5\n",
    "SEED = 1928"
   ]
  },
  {
   "cell_type": "markdown",
   "metadata": {},
   "source": [
    "# Data setup"
   ]
  },
  {
   "cell_type": "code",
   "execution_count": null,
   "metadata": {},
   "outputs": [],
   "source": [
    "UNUSED_COLUMNS = [\"post_id\", \"comment_id\", \"url\"]\n",
    "SCORE_COLUMN = \"offensiveness_score\"\n",
    "COMMENT_COLUMN = \"txt\"\n",
    "OFFENSIVE_LABEL = \"offensive\"\n",
    "NOT_OFFENSIVE_LABEL = \"not_offensive\""
   ]
  },
  {
   "cell_type": "code",
   "execution_count": null,
   "metadata": {},
   "outputs": [],
   "source": [
    "dataset = pd.read_csv(DATASET_PATH)\n",
    "dataset.head()"
   ]
  },
  {
   "cell_type": "code",
   "execution_count": null,
   "metadata": {},
   "outputs": [],
   "source": [
    "# drops unused columns\n",
    "dataset.drop(UNUSED_COLUMNS, axis=\"columns\", inplace=True)"
   ]
  },
  {
   "cell_type": "code",
   "execution_count": null,
   "metadata": {},
   "outputs": [],
   "source": [
    "# drops deleted comments\n",
    "dataset[COMMENT_COLUMN].replace(\"[deleted]\", np.nan, inplace=True)\n",
    "dataset.dropna(subset=[COMMENT_COLUMN], inplace=True)\n",
    "dataset.head()"
   ]
  },
  {
   "cell_type": "code",
   "execution_count": null,
   "metadata": {},
   "outputs": [],
   "source": [
    "middle = np.quantile(dataset[SCORE_COLUMN], q=THRESHOLD_QUANTILE)\n",
    "print(\"middle:\", middle)"
   ]
  },
  {
   "cell_type": "code",
   "execution_count": null,
   "metadata": {},
   "outputs": [],
   "source": [
    "plt.hist(dataset[SCORE_COLUMN], bins=\"auto\")\n",
    "plt.axvline(middle, color=\"k\")\n",
    "_ = plt.title(\"Offensiveness Score Distribution\")"
   ]
  },
  {
   "cell_type": "markdown",
   "metadata": {},
   "source": [
    "# Training"
   ]
  },
  {
   "cell_type": "code",
   "execution_count": null,
   "metadata": {},
   "outputs": [],
   "source": [
    "from sklearn.preprocessing import binarize\n",
    "\n",
    "x = dataset[COMMENT_COLUMN]\n",
    "# y = binarize(dataset[SCORE_COLUMN].to_numpy().reshape(-1, 1)).ravel()\n",
    "y = dataset[SCORE_COLUMN].map(lambda s: OFFENSIVE_LABEL if s > 0 else NOT_OFFENSIVE_LABEL)\n",
    "x_train, x_test, y_train, y_test = train_test_split(x, y, train_size=0.8, random_state=SEED)"
   ]
  },
  {
   "cell_type": "code",
   "execution_count": null,
   "metadata": {},
   "outputs": [],
   "source": [
    "from sklearn.pipeline import make_pipeline\n",
    "from sklearn.svm import SVC, LinearSVC, SVR\n",
    "from sklearn.preprocessing import StandardScaler\n",
    "\n",
    "svm_classifier = make_pipeline(CountVectorizer(stop_words=STOPWORDS_LANGUAGE), SVC())\n",
    "svm_classifier.fit(x_train, y_train)"
   ]
  },
  {
   "cell_type": "code",
   "execution_count": null,
   "metadata": {},
   "outputs": [],
   "source": [
    "nb_classifier = make_pipeline(CountVectorizer(stop_words=STOPWORDS_LANGUAGE), MultinomialNB())\n",
    "nb_classifier.fit(x_train, y_train)"
   ]
  },
  {
   "cell_type": "markdown",
   "metadata": {},
   "source": [
    "# Results"
   ]
  },
  {
   "cell_type": "code",
   "execution_count": null,
   "metadata": {},
   "outputs": [],
   "source": [
    "classes = nb_classifier.classes_\n",
    "y_pred = nb_classifier.predict(x_test)\n",
    "nb_report = pd.DataFrame(classification_report(y_test, y_pred, output_dict=True)).transpose()\n",
    "nb_confusion = pd.DataFrame(confusion_matrix(y_test, y_pred))\n",
    "nb_confusion.set_axis(classes, axis=\"rows\", inplace=True)\n",
    "nb_confusion.set_axis(classes, axis=\"columns\", inplace=True)"
   ]
  },
  {
   "cell_type": "code",
   "execution_count": null,
   "metadata": {},
   "outputs": [],
   "source": [
    "svm_classes = svm_classifier.classes_\n",
    "y_pred = svm_classifier.predict(x_test)\n",
    "svm_report = pd.DataFrame(classification_report(y_test, y_pred, output_dict=True)).transpose()\n",
    "svm_confusion = pd.DataFrame(confusion_matrix(y_test, y_pred))\n",
    "svm_confusion.set_axis(svm_classes, axis=\"rows\", inplace=True)\n",
    "svm_confusion.set_axis(svm_classes, axis=\"columns\", inplace=True)"
   ]
  },
  {
   "cell_type": "code",
   "execution_count": null,
   "metadata": {},
   "outputs": [],
   "source": [
    "fig, [report_axis, confusion_axis] = plt.subplots(2, 1)\n",
    "report_axis.axis(\"tight\")\n",
    "report_axis.axis(\"off\")\n",
    "pdplt.table(report_axis, svm_report, loc=\"center\")\n",
    "report_axis.set_title(\"Estastisticas do Modelo SVM\")\n",
    "confusion_axis.axis(\"tight\")\n",
    "confusion_axis.axis(\"off\")\n",
    "pdplt.table(confusion_axis, svm_confusion, loc=\"center\")\n",
    "confusion_axis.set_title(\"Matriz de Confusão\")\n",
    "fig.tight_layout()\n",
    "fig.savefig(SVM_STATS_PATH, bbox_inches=\"tight\", dpi=240)"
   ]
  },
  {
   "cell_type": "code",
   "execution_count": null,
   "metadata": {},
   "outputs": [],
   "source": [
    "fig, [report_axis, confusion_axis] = plt.subplots(2, 1)\n",
    "report_axis.axis(\"tight\")\n",
    "report_axis.axis(\"off\")\n",
    "pdplt.table(report_axis, nb_report, loc=\"center\")\n",
    "report_axis.set_title(\"Estastisticas do Modelo NB\")\n",
    "confusion_axis.axis(\"tight\")\n",
    "confusion_axis.axis(\"off\")\n",
    "pdplt.table(confusion_axis, nb_confusion, loc=\"center\")\n",
    "confusion_axis.set_title(\"Matriz de Confusão\")\n",
    "fig.tight_layout()\n",
    "fig.savefig(NB_STATS_PATH, bbox_inches=\"tight\", dpi=240)"
   ]
  },
  {
   "cell_type": "code",
   "execution_count": null,
   "metadata": {},
   "outputs": [],
   "source": [
    "comment = \"welcome to narnia\"\n",
    "prediction = nb_classifier.predict_proba([comment])\n",
    "print(f\"offensiveness: {prediction[0][1]}\")"
   ]
  },
  {
   "cell_type": "markdown",
   "metadata": {},
   "source": [
    "# Saves model"
   ]
  },
  {
   "cell_type": "code",
   "execution_count": null,
   "metadata": {},
   "outputs": [],
   "source": [
    "with open(SVM_MODEL_PATH, \"wb\") as svm_model_file, open(NB_MODEL_PATH, \"wb\") as nb_model_file:\n",
    "    pk.dump(svm_classifier, svm_model_file)\n",
    "    pk.dump(nb_classifier, nb_model_file)\n"
   ]
  }
 ],
 "metadata": {
  "kernelspec": {
   "display_name": "Python 3.10.6 ('venv': venv)",
   "language": "python",
   "name": "python3"
  },
  "language_info": {
   "codemirror_mode": {
    "name": "ipython",
    "version": 3
   },
   "file_extension": ".py",
   "mimetype": "text/x-python",
   "name": "python",
   "nbconvert_exporter": "python",
   "pygments_lexer": "ipython3",
   "version": "3.10.6"
  },
  "orig_nbformat": 4,
  "vscode": {
   "interpreter": {
    "hash": "eb527631bb171dc6780ad93b516f58282b63f6e85a0ece7e5e91665eeb4222d6"
   }
  }
 },
 "nbformat": 4,
 "nbformat_minor": 2
}
