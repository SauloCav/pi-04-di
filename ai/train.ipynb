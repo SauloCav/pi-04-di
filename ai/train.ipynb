{
 "cells": [
  {
   "cell_type": "code",
   "execution_count": 134,
   "metadata": {},
   "outputs": [],
   "source": [
    "import pickle as pk\n",
    "import pandas as pd\n",
    "import numpy as np\n",
    "from nltk.corpus import stopwords\n",
    "from sklearn.naive_bayes import MultinomialNB\n",
    "from sklearn.model_selection import train_test_split\n",
    "from sklearn.feature_extraction.text import CountVectorizer\n",
    "from sklearn.metrics import classification_report, confusion_matrix"
   ]
  },
  {
   "cell_type": "code",
   "execution_count": 135,
   "metadata": {},
   "outputs": [],
   "source": [
    "CLEAN_PATH = \"datasets/cleaned_dataset.csv\"\n",
    "VECTORIZER_PATH = \"models/vectorizer.pickle\"\n",
    "CLASSIFIER_PATH = \"models/classifier.pickle\"\n",
    "SEED = 1928"
   ]
  },
  {
   "cell_type": "code",
   "execution_count": 136,
   "metadata": {},
   "outputs": [],
   "source": [
    "clean_dataset = pd.read_csv(CLEAN_PATH)"
   ]
  },
  {
   "cell_type": "code",
   "execution_count": 137,
   "metadata": {},
   "outputs": [],
   "source": [
    "vectorizer = CountVectorizer(stop_words=stopwords.words(\"english\"), )\n",
    "x = vectorizer.fit_transform(clean_dataset[\"keywords\"])\n",
    "y = clean_dataset[\"classification\"]\n",
    "x_train, x_test, y_train, y_test = train_test_split(x, y, train_size=0.8, random_state=SEED)"
   ]
  },
  {
   "cell_type": "code",
   "execution_count": 138,
   "metadata": {},
   "outputs": [],
   "source": [
    "classifier = MultinomialNB().fit(x_train, y_train)"
   ]
  },
  {
   "cell_type": "code",
   "execution_count": 139,
   "metadata": {},
   "outputs": [
    {
     "name": "stdout",
     "output_type": "stream",
     "text": [
      "               precision    recall  f1-score   support\n",
      "\n",
      "not_offensive       0.82      0.73      0.77       711\n",
      "    offensive       0.63      0.74      0.68       434\n",
      "\n",
      "     accuracy                           0.74      1145\n",
      "    macro avg       0.73      0.74      0.73      1145\n",
      " weighted avg       0.75      0.74      0.74      1145\n",
      "\n",
      "[[520 191]\n",
      " [112 322]]\n"
     ]
    }
   ],
   "source": [
    "y_pred = classifier.predict(x_test)\n",
    "print(classification_report(y_test, y_pred))\n",
    "print(confusion_matrix(y_test, y_pred))"
   ]
  },
  {
   "cell_type": "code",
   "execution_count": 140,
   "metadata": {},
   "outputs": [],
   "source": [
    "# comment = \"welcome to reddit\"\n",
    "# features = vectorizer.transform([comment])\n",
    "# prediction = classifier.predict_proba(features)\n",
    "# print(f\"offensiveness: {prediction[0][1]}\")"
   ]
  },
  {
   "cell_type": "code",
   "execution_count": 141,
   "metadata": {},
   "outputs": [],
   "source": [
    "with open(VECTORIZER_PATH, \"wb\") as vectorizer_file,open(CLASSIFIER_PATH, \"wb\") as classifier_file:\n",
    "    pk.dump(vectorizer, vectorizer_file)\n",
    "    pk.dump(classifier, classifier_file)\n"
   ]
  }
 ],
 "metadata": {
  "kernelspec": {
   "display_name": "Python 3.10.6 ('venv': venv)",
   "language": "python",
   "name": "python3"
  },
  "language_info": {
   "codemirror_mode": {
    "name": "ipython",
    "version": 3
   },
   "file_extension": ".py",
   "mimetype": "text/x-python",
   "name": "python",
   "nbconvert_exporter": "python",
   "pygments_lexer": "ipython3",
   "version": "3.10.6"
  },
  "orig_nbformat": 4,
  "vscode": {
   "interpreter": {
    "hash": "eb527631bb171dc6780ad93b516f58282b63f6e85a0ece7e5e91665eeb4222d6"
   }
  }
 },
 "nbformat": 4,
 "nbformat_minor": 2
}
